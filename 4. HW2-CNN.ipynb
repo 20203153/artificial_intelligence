{
  "nbformat": 4,
  "nbformat_minor": 0,
  "metadata": {
    "colab": {
      "provenance": []
    },
    "kernelspec": {
      "name": "python3",
      "display_name": "Python 3"
    },
    "language_info": {
      "name": "python"
    }
  },
  "cells": [
    {
      "cell_type": "code",
      "execution_count": null,
      "metadata": {
        "id": "GAC9sWkdBKGR"
      },
      "outputs": [],
      "source": [
        "# PyTorch 라이브러리 import  *** 해당 cell을 수정하지 말 것 ***\n",
        "import torch\n",
        "import torch.nn as nn\n",
        "from torchvision import transforms, datasets"
      ]
    },
    {
      "cell_type": "code",
      "source": [
        "# TODO: CIFAR-100 training set 불러오기"
      ],
      "metadata": {
        "id": "BauBkbLmBOJM"
      },
      "execution_count": null,
      "outputs": []
    },
    {
      "cell_type": "code",
      "source": [
        "class CNN(nn.Module):\n",
        "  def __init__():\n",
        "    super(CNN, self).__init__()\n",
        "    torch.manual_seed(2024) # 결과 재현을 위한 seed number 고정 *** 해당 line을 수정하지 말 것 ***\n",
        "    # TODO: CNN 구성 layer들 선언\n",
        "\n",
        "  def forward(self, x):\n",
        "    # TODO: forward pass 정의\n",
        "    return x\n",
        "\n",
        "model = CNN().cuda()"
      ],
      "metadata": {
        "id": "JngKTIlgBVhw"
      },
      "execution_count": null,
      "outputs": []
    },
    {
      "cell_type": "code",
      "source": [
        "# TODO: model 명의로 생성된 CNN 모델에 대해 학습 수행하기"
      ],
      "metadata": {
        "id": "tSJHL24KBQ4q"
      },
      "execution_count": null,
      "outputs": []
    },
    {
      "cell_type": "code",
      "source": [
        "# 학습된 모델 평가  *** 해당 cell을 수정하지 말 것 ***\n",
        "\n",
        "\n",
        "test_dataset = datasets.CIFAR100(root='.', train=False, download=True,\n",
        "                                 transform=transforms.ToTensor())\n",
        "batchsize = 64\n",
        "test_loader = torch.utils.data.DataLoader(dataset=test_dataset,\n",
        "                                           batch_size=batchsize, shuffle=True)\n",
        "\n",
        "num_correct = 0\n",
        "\n",
        "model.eval()\n",
        "\n",
        "with torch.no_grad():\n",
        "  for image, label in test_loader:\n",
        "    image = image.cuda()\n",
        "    label = label.cuda()\n",
        "    output = model(image)\n",
        "    pred = output.argmax(dim=1)\n",
        "    num_correct += (pred == label).sum()\n",
        "\n",
        "print(f'Accuracy : {num_correct / len(test_dataset) * 100:.2f} %')"
      ],
      "metadata": {
        "id": "lw6E8T6RBOOr"
      },
      "execution_count": null,
      "outputs": []
    }
  ]
}