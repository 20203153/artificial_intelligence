{
 "cells": [
  {
   "cell_type": "markdown",
   "metadata": {},
   "source": [
    "# MNIST"
   ]
  },
  {
   "cell_type": "code",
   "execution_count": null,
   "metadata": {},
   "outputs": [],
   "source": [
    "%pip install torch numpy matplotlib tqdm torchvision ipywidgets --upgrade"
   ]
  },
  {
   "cell_type": "code",
   "execution_count": null,
   "metadata": {},
   "outputs": [],
   "source": [
    "import torch\n",
    "import matplotlib.pyplot as plt\n",
    "from torchvision import transforms, datasets\n",
    "\n",
    "if torch.backends.mps.is_available():\n",
    "    device = torch.device(\"mps\")\n",
    "else:\n",
    "    device = torch.device(\"cuda\") if torch.cuda.is_available() else torch.device(\"cpu\")\n",
    "print(f\"{device}\")\n",
    "\n",
    "transform_train = transforms.Compose([\n",
    "    transforms.RandomResizedCrop(28),\n",
    "    transforms.RandomRotation(15),\n",
    "    transforms.ToTensor()\n",
    "])\n",
    "\n",
    "train_data = datasets.MNIST(root='.', train=True, download=True, transform=transform_train)\n",
    "test_data = datasets.MNIST(root='.', train=False, download=True, transform=transforms.ToTensor())\n",
    "\n",
    "train_dataset = torch.utils.data.Subset(train_data, range(700))\n",
    "validation_dataset = torch.utils.data.Subset(train_data, range(700, 1000))\n",
    "\n",
    "batch_size = 64\n",
    "train_loader = torch.utils.data.DataLoader(train_dataset, batch_size, shuffle=True)\n",
    "validation_loader = torch.utils.data.DataLoader(validation_dataset, batch_size, shuffle=False)\n",
    "test_loader = torch.utils.data.DataLoader(test_data, batch_size, shuffle=False)"
   ]
  },
  {
   "cell_type": "markdown",
   "metadata": {},
   "source": [
    "# MLP Design"
   ]
  },
  {
   "cell_type": "code",
   "execution_count": null,
   "metadata": {},
   "outputs": [],
   "source": [
    "import torch.nn as nn\n",
    "\n",
    "class MLP(nn.Module):\n",
    "    def __init__(self):\n",
    "        super(MLP, self).__init__()\n",
    "        self.affine1 = nn.Linear(28 * 28, 100)\n",
    "        self.batchnorm1 = nn.BatchNorm1d(100)\n",
    "        self.affine2 = nn.Linear(100, 100)\n",
    "        self.batchnorm2 = nn.BatchNorm1d(100)\n",
    "        self.affine3 = nn.Linear(100, 100)\n",
    "        self.batchnorm3 = nn.BatchNorm1d(100)\n",
    "        self.affine4 = nn.Linear(100, 100)\n",
    "        self.batchnorm4 = nn.BatchNorm1d(100)\n",
    "        self.affine5 = nn.Linear(100, 10)\n",
    "        self.act = nn.ReLU()\n",
    "\n",
    "    def forward(self, x: torch.Tensor):\n",
    "        x = x.view(-1, 28 * 28)\n",
    "        x = self.batchnorm1(self.act(self.affine1(x)))\n",
    "        x = self.batchnorm2(self.act(self.affine2(x)))\n",
    "        x = self.batchnorm3(self.act(self.affine3(x)))\n",
    "        x = self.batchnorm4(self.act(self.affine4(x)))\n",
    "        x = self.affine5(x)\n",
    "\n",
    "        return x\n",
    "\n",
    "model = MLP()\n",
    "model = model.to(device)\n",
    "\n",
    "print(model)\n",
    "print(sum(p.numel() for p in model.parameters()))\n",
    "\n",
    "lr = 1e-4\n",
    "optimizer = torch.optim.Adam(model.parameters(), lr=lr, weight_decay=5e-6)\n",
    "criterion = nn.CrossEntropyLoss()"
   ]
  },
  {
   "cell_type": "code",
   "execution_count": null,
   "metadata": {},
   "outputs": [],
   "source": [
    "from tqdm.notebook import tqdm\n",
    "\n",
    "num_epochs = 50\n",
    "iter = 0\n",
    "best_validation_acc = 0\n",
    "\n",
    "for epoch in tqdm(range(num_epochs), desc=\"Epoch\", position=1):\n",
    "    model.train()\n",
    "    for image, label in tqdm(train_loader, desc=\"Batch\", position=0, leave=True):\n",
    "        image, label = image.to(device), label.to(device)  # Send data to the target device\n",
    "\n",
    "        optimizer.zero_grad()  # Clear previous gradients\n",
    "        output = model(image)  # Forward pass\n",
    "        loss = criterion(output, label)  # Calculate the loss\n",
    "        \n",
    "        loss.backward()  # Backward pass\n",
    "        optimizer.step()  # Update model weights\n",
    "        \n",
    "        iter += 1  # Increment iteration count\n",
    "    \n",
    "    num_correct = 0\n",
    "    model.eval()\n",
    "    \n",
    "    with torch.no_grad():\n",
    "        for image, label in tqdm(validation_loader, desc=\"Val\", position=0, leave=True):\n",
    "            image, label = image.to(device), label.to(device)\n",
    "            output = model(image)\n",
    "            pred = output.argmax(dim=1)\n",
    "            num_correct += (pred == label).sum()\n",
    "    validation_accuracy = num_correct / len(validation_dataset) * 100\n",
    "\n",
    "    if validation_accuracy >= best_validation_acc:\n",
    "        best_validation_acc = validation_accuracy\n",
    "    elif validation_accuracy < best_validation_acc - 10:\n",
    "        print(f\"Early stopped at epoch {epoch + 1}\")\n",
    "        break\n",
    "\n",
    "print(f\"Total iterations: {iter}\")"
   ]
  },
  {
   "cell_type": "code",
   "execution_count": null,
   "metadata": {},
   "outputs": [],
   "source": [
    "num_correct = 0\n",
    "\n",
    "with torch.no_grad():\n",
    "    for image, label in tqdm(test_loader, \"Validation\"):\n",
    "        image, label = image.to(device), label.to(device)\n",
    "        output = model(image)\n",
    "        pred = output.argmax(dim=1)\n",
    "        num_correct += (pred == label).sum()\n",
    "\n",
    "print(f\"Accuracy : { num_correct / len(test_data) * 100:.2f}%\")"
   ]
  }
 ],
 "metadata": {
  "kernelspec": {
   "display_name": "artificial_intelligence",
   "language": "python",
   "name": "python3"
  },
  "language_info": {
   "codemirror_mode": {
    "name": "ipython",
    "version": 3
   },
   "file_extension": ".py",
   "mimetype": "text/x-python",
   "name": "python",
   "nbconvert_exporter": "python",
   "pygments_lexer": "ipython3",
   "version": "3.12.7"
  }
 },
 "nbformat": 4,
 "nbformat_minor": 2
}
